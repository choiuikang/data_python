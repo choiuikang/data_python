{
 "cells": [
  {
   "cell_type": "markdown",
   "id": "f43a4335",
   "metadata": {},
   "source": [
    "# 2장 서울시 범죄 현황 분석\n",
    "우리는 1장에서 꽤 기나긴 여정을 거치며 많은 일을 했습니다. 데이터를 다루는 사람들은 항상 객관적으로 데이터를 이용해서 검증 가능한 범위 안에서 판단하게 됩니다. 그래서 데이터를 가지고 가설 혹은 인식을 검증하는 일도 할 수 있게 됩니다. 사실 이런 일들이 쾌감도 잇고 즐겁습니다."
   ]
  },
  {
   "cell_type": "markdown",
   "id": "7c7a20ed",
   "metadata": {},
   "source": [
    "## 2-2 pandas를 이용하여 데이터 정리하기"
   ]
  },
  {
   "cell_type": "code",
   "execution_count": 1,
   "id": "6f8d846a",
   "metadata": {},
   "outputs": [],
   "source": [
    "import numpy as np\n",
    "import pandas as pd"
   ]
  },
  {
   "cell_type": "code",
   "execution_count": 2,
   "id": "8f23e428",
   "metadata": {},
   "outputs": [
    {
     "ename": "SyntaxError",
     "evalue": "invalid syntax (3590723110.py, line 1)",
     "output_type": "error",
     "traceback": [
      "\u001b[0;36m  File \u001b[0;32m\"/tmp/ipykernel_1160/3590723110.py\"\u001b[0;36m, line \u001b[0;32m1\u001b[0m\n\u001b[0;31m    plot(c(1:5), main=\"가나다\")\u001b[0m\n\u001b[0m            ^\u001b[0m\n\u001b[0;31mSyntaxError\u001b[0m\u001b[0;31m:\u001b[0m invalid syntax\n"
     ]
    }
   ],
   "source": [
    "plot(c(1:5), main=\"가나다\")\n"
   ]
  },
  {
   "cell_type": "code",
   "execution_count": null,
   "id": "93b09db9",
   "metadata": {},
   "outputs": [],
   "source": []
  }
 ],
 "metadata": {
  "kernelspec": {
   "display_name": "Python 3 (ipykernel)",
   "language": "python",
   "name": "python3"
  },
  "language_info": {
   "codemirror_mode": {
    "name": "ipython",
    "version": 3
   },
   "file_extension": ".py",
   "mimetype": "text/x-python",
   "name": "python",
   "nbconvert_exporter": "python",
   "pygments_lexer": "ipython3",
   "version": "3.8.11"
  }
 },
 "nbformat": 4,
 "nbformat_minor": 5
}
