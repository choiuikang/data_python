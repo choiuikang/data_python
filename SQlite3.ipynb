{
 "cells": [
  {
   "cell_type": "code",
   "execution_count": 1,
   "id": "cdfb8dc8",
   "metadata": {},
   "outputs": [],
   "source": [
    "import sqlite3"
   ]
  },
  {
   "cell_type": "code",
   "execution_count": 2,
   "id": "e38b5040",
   "metadata": {},
   "outputs": [
    {
     "data": {
      "text/plain": [
       "'2.6.0'"
      ]
     },
     "execution_count": 2,
     "metadata": {},
     "output_type": "execute_result"
    }
   ],
   "source": [
    "sqlite3.version"
   ]
  },
  {
   "cell_type": "code",
   "execution_count": 4,
   "id": "a5d1bf49",
   "metadata": {},
   "outputs": [
    {
     "data": {
      "text/plain": [
       "'3.36.0'"
      ]
     },
     "execution_count": 4,
     "metadata": {},
     "output_type": "execute_result"
    }
   ],
   "source": [
    "sqlite3.sqlite_version"
   ]
  },
  {
   "cell_type": "code",
   "execution_count": 5,
   "id": "7c75b556",
   "metadata": {},
   "outputs": [],
   "source": [
    "conn = sqlite3.connect(\"employee.db\")\n",
    "\n",
    "cur = conn.cursor()\n",
    "\n",
    "conn.execute('CREATE TABLE employee_data(id INTEGER, name TEXT, nickname TEXT, department TEXT, employment_date TEXT)')\n",
    "\n",
    "cur.executemany(\n",
    "    'INSERT INTO employee_data VALUES (?, ?, ?, ?, ?)',\n",
    "    [(1001, 'Donghyun', 'SOMJANG', 'Development', '2020-04-01 00:00:00.000'),\n",
    "     (2001, 'Sol', 'Fairy', 'Marketing', '2020-04-01 00:00:00.000'),\n",
    "     (2002, 'Jiyoung', 'Magician', 'Marketing', '2020-04-01 00:00:00.000'),\n",
    "     (1002, 'Hyeona', 'Theif', 'Development', '2020-04-01 00:00:00.000'),\n",
    "     (1003, 'Soyoung', 'Chief', 'Development', '2020-04-01 00:00:00.000')\n",
    "    ]\n",
    ")\n",
    "\n",
    "\n",
    "conn.commit()\n",
    "conn.close()"
   ]
  },
  {
   "cell_type": "code",
   "execution_count": 7,
   "id": "633a0892",
   "metadata": {},
   "outputs": [
    {
     "name": "stdout",
     "output_type": "stream",
     "text": [
      "(1001, 'Donghyun', 'SOMJANG', 'Development', '2020-04-01 00:00:00.000')\n",
      "(2001, 'Sol', 'Fairy', 'Marketing', '2020-04-01 00:00:00.000')\n",
      "(2002, 'Jiyoung', 'Magician', 'Marketing', '2020-04-01 00:00:00.000')\n",
      "(1002, 'Hyeona', 'Theif', 'Development', '2020-04-01 00:00:00.000')\n",
      "(1003, 'Soyoung', 'Chief', 'Development', '2020-04-01 00:00:00.000')\n"
     ]
    }
   ],
   "source": [
    "conn = sqlite3.connect(\"employee.db\")\n",
    "\n",
    "cur = conn.cursor()\n",
    "\n",
    "cur.execute(\"SELECT * FROM employee_data\")\n",
    "\n",
    "rows = cur.fetchall()\n",
    "\n",
    "for row in rows:\n",
    "    print(row)\n",
    "    \n",
    "conn.close()"
   ]
  },
  {
   "cell_type": "code",
   "execution_count": 8,
   "id": "a78b2db7",
   "metadata": {},
   "outputs": [],
   "source": [
    "conn.close()"
   ]
  },
  {
   "cell_type": "code",
   "execution_count": 9,
   "id": "6c5f5ba0",
   "metadata": {},
   "outputs": [
    {
     "data": {
      "text/html": [
       "<div>\n",
       "<style scoped>\n",
       "    .dataframe tbody tr th:only-of-type {\n",
       "        vertical-align: middle;\n",
       "    }\n",
       "\n",
       "    .dataframe tbody tr th {\n",
       "        vertical-align: top;\n",
       "    }\n",
       "\n",
       "    .dataframe thead th {\n",
       "        text-align: right;\n",
       "    }\n",
       "</style>\n",
       "<table border=\"1\" class=\"dataframe\">\n",
       "  <thead>\n",
       "    <tr style=\"text-align: right;\">\n",
       "      <th></th>\n",
       "      <th>id</th>\n",
       "      <th>name</th>\n",
       "      <th>nickname</th>\n",
       "      <th>department</th>\n",
       "      <th>employment_date</th>\n",
       "    </tr>\n",
       "  </thead>\n",
       "  <tbody>\n",
       "    <tr>\n",
       "      <th>0</th>\n",
       "      <td>1001</td>\n",
       "      <td>Donghyun</td>\n",
       "      <td>SOMJANG</td>\n",
       "      <td>Development</td>\n",
       "      <td>2020-04-01 00:00:00.000</td>\n",
       "    </tr>\n",
       "    <tr>\n",
       "      <th>1</th>\n",
       "      <td>2001</td>\n",
       "      <td>Sol</td>\n",
       "      <td>Fairy</td>\n",
       "      <td>Marketing</td>\n",
       "      <td>2020-04-01 00:00:00.000</td>\n",
       "    </tr>\n",
       "    <tr>\n",
       "      <th>2</th>\n",
       "      <td>2002</td>\n",
       "      <td>Jiyoung</td>\n",
       "      <td>Magician</td>\n",
       "      <td>Marketing</td>\n",
       "      <td>2020-04-01 00:00:00.000</td>\n",
       "    </tr>\n",
       "    <tr>\n",
       "      <th>3</th>\n",
       "      <td>1002</td>\n",
       "      <td>Hyeona</td>\n",
       "      <td>Theif</td>\n",
       "      <td>Development</td>\n",
       "      <td>2020-04-01 00:00:00.000</td>\n",
       "    </tr>\n",
       "    <tr>\n",
       "      <th>4</th>\n",
       "      <td>1003</td>\n",
       "      <td>Soyoung</td>\n",
       "      <td>Chief</td>\n",
       "      <td>Development</td>\n",
       "      <td>2020-04-01 00:00:00.000</td>\n",
       "    </tr>\n",
       "  </tbody>\n",
       "</table>\n",
       "</div>"
      ],
      "text/plain": [
       "     id      name  nickname   department          employment_date\n",
       "0  1001  Donghyun   SOMJANG  Development  2020-04-01 00:00:00.000\n",
       "1  2001       Sol     Fairy    Marketing  2020-04-01 00:00:00.000\n",
       "2  2002   Jiyoung  Magician    Marketing  2020-04-01 00:00:00.000\n",
       "3  1002    Hyeona     Theif  Development  2020-04-01 00:00:00.000\n",
       "4  1003   Soyoung     Chief  Development  2020-04-01 00:00:00.000"
      ]
     },
     "execution_count": 9,
     "metadata": {},
     "output_type": "execute_result"
    }
   ],
   "source": [
    "import pandas as pd\n",
    "\n",
    "conn = sqlite3.connect(\"employee.db\")\n",
    "\n",
    "cur = conn.cursor()\n",
    "\n",
    "cur.execute(\"SELECT * FROM employee_data\")\n",
    "\n",
    "rows = cur.fetchall()\n",
    "\n",
    "cols = [column[0] for column in cur.description]\n",
    "\n",
    "data_df = pd.DataFrame.from_records(data=rows, columns=cols)\n",
    "\n",
    "conn.close()\n",
    "\n",
    "data_df"
   ]
  },
  {
   "cell_type": "code",
   "execution_count": null,
   "id": "de65a5b9",
   "metadata": {},
   "outputs": [],
   "source": []
  }
 ],
 "metadata": {
  "kernelspec": {
   "display_name": "Python 3 (ipykernel)",
   "language": "python",
   "name": "python3"
  },
  "language_info": {
   "codemirror_mode": {
    "name": "ipython",
    "version": 3
   },
   "file_extension": ".py",
   "mimetype": "text/x-python",
   "name": "python",
   "nbconvert_exporter": "python",
   "pygments_lexer": "ipython3",
   "version": "3.8.12"
  }
 },
 "nbformat": 4,
 "nbformat_minor": 5
}
